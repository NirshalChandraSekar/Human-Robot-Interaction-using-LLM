{
 "cells": [
  {
   "cell_type": "code",
   "execution_count": null,
   "metadata": {},
   "outputs": [],
   "source": [
    "from llm import llm\n",
    "from speech_processing import speech_processing\n",
    "from PyBullet_simulation_setup import pybullet\n",
    "import json\n",
    "import numpy as np\n",
    "import wandb"
   ]
  },
  {
   "cell_type": "code",
   "execution_count": null,
   "metadata": {},
   "outputs": [],
   "source": [
    "def main():\n",
    "    gpt = llm()\n",
    "    process_audio = speech_processing()\n",
    "    sim = pybullet()\n",
    "    gpt.init_llm()\n",
    "    arr = []\n",
    "    # print(\"Speak Prompt: \")\n",
    "    reset = int(input(\"repeat\"))\n",
    "    while True:\n",
    "        if(reset == 0):\n",
    "\n",
    "            prompt = process_audio.speech_to_text()\n",
    "            if(prompt != \"stop\"):\n",
    "\n",
    "                sim.step()\n",
    "                result = json.loads(gpt.generate_response(prompt)['answer'])\n",
    "                print(result[\"object_number\"])\n",
    "                process_audio.text_to_speech(result[\"text\"])\n",
    "                if result[\"object_number\"] != 0:\n",
    "                    sim.pick_which_object(result[\"object_number\"])\n",
    "                arr.append(int(result[\"score\"]))\n",
    "                # print(\"Speak Prompt: \")\n",
    "\n",
    "            else:\n",
    "                reset = 1\n",
    "                print(arr)\n",
    "                sim.reset_pose()\n",
    "                array = np.array(arr)\n",
    "                wandb.init(project=\"NLP - Poster Presentation\")\n",
    "                table = wandb.Table(data=np.column_stack((range(len(array)), array)), columns=[\"x\", \"y\"])\n",
    "                wandb.log({\"line_plot\": wandb.plot.line(table, \"x\", \"y\", title=\"Sentiment Plot\")})\n",
    "                wandb.finish()\n",
    "                arr = []\n",
    "                reset = int(input(\"repeat?\"))\n",
    "        \n",
    "            # prompt = process_audio.speech_to_text()\n",
    "\n",
    "    print(\"Full Response:\")\n",
    "    print(gpt.llm_chain)\n",
    "\n",
    "    # gpt = llm()\n",
    "    # sim = pybullet()\n",
    "    # gpt.init_llm()\n",
    "    # prompt = input(\"Input Prompt: \")\n",
    "    # arr = []\n",
    "    # while True:\n",
    "    #     if(prompt != \"Done\"):\n",
    "    #         sim.step()\n",
    "    #         # print(gpt.generate_response(prompt)['answer'])\n",
    "    #         result = json.loads(gpt.generate_response(prompt)['answer'])\n",
    "    #         print(result)\n",
    "    #         # print(gpt.generate_response(prompt)['answer'])\n",
    "    #         print(result[\"object_number\"])\n",
    "    #         if result[\"object_number\"] != 0:\n",
    "    #             sim.pick_which_object(result[\"object_number\"])\n",
    "    #         arr.append(int(result[\"score\"]))\n",
    "        \n",
    "    #     else:\n",
    "    #         print(arr)\n",
    "    #         sim.reset_pose()\n",
    "    #         array = np.array(arr)\n",
    "    #         wandb.init(project=\"NLP - Poster Presentation\")\n",
    "    #         table = wandb.Table(data=np.column_stack((range(len(array)), array)), columns=[\"x\", \"y\"])\n",
    "    #         wandb.log({\"line_plot\": wandb.plot.line(table, \"x\", \"y\", title=\"Sentiment Plot\")})\n",
    "    #         wandb.finish()\n",
    "    #         arr = []\n",
    "        \n",
    "    #     prompt = input(\"Input Prompt: \")\n",
    "         \n",
    "\n",
    "\n",
    "    # print(\"Full Response:\")\n",
    "    # print(gpt.llm_chain)"
   ]
  },
  {
   "cell_type": "code",
   "execution_count": null,
   "metadata": {},
   "outputs": [],
   "source": [
    "main()"
   ]
  }
 ],
 "metadata": {
  "kernelspec": {
   "display_name": "mediapipe",
   "language": "python",
   "name": "python3"
  },
  "language_info": {
   "codemirror_mode": {
    "name": "ipython",
    "version": 3
   },
   "file_extension": ".py",
   "mimetype": "text/x-python",
   "name": "python",
   "nbconvert_exporter": "python",
   "pygments_lexer": "ipython3",
   "version": "3.11.8"
  }
 },
 "nbformat": 4,
 "nbformat_minor": 2
}
